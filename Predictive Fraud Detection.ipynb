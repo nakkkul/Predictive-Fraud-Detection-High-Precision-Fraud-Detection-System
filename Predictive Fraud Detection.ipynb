{
 "cells": [
  {
   "cell_type": "code",
   "execution_count": 1,
   "id": "29f95685-bc98-4e72-9fab-10393121fa42",
   "metadata": {},
   "outputs": [],
   "source": [
    "import pandas as pd\n",
    "import numpy as np\n",
    "import matplotlib.pyplot as plt\n",
    "import seaborn as sns\n",
    "from sklearn.model_selection import train_test_split\n",
    "from sklearn.metrics import accuracy_score\n",
    "from sklearn.metrics import classification_report"
   ]
  },
  {
   "cell_type": "markdown",
   "id": "1977b84e-caea-46a8-a6b4-fb6bf9b1a411",
   "metadata": {},
   "source": [
    "### Describing Data from the provided Data Dictionary\n",
    "\n",
    "step - maps a unit of time in the real world. In this case 1 step is 1 hour of time. Total steps 744 (30 days simulation).\n",
    "\n",
    "type - CASH-IN, CASH-OUT, DEBIT, PAYMENT and TRANSFER.\n",
    "\n",
    "amount - amount of the transaction in local currency.\n",
    "\n",
    "nameOrig - customer who started the transaction\n",
    "\n",
    "oldbalanceOrg - initial balance before the transaction\n",
    "\n",
    "newbalanceOrig - new balance after the transaction\n",
    "\n",
    "nameDest - customer who is the recipient of the transaction\n",
    "\n",
    "oldbalanceDest - initial balance recipient before the transaction. Note that there is not information for customers that start with M (Merchants).\n",
    "\n",
    "newbalanceDest - new balance recipient after the transaction. Note that there is not information for customers that start with M (Merchants).\n",
    "\n",
    "isFraud - This is the transactions made by the fraudulent agents inside the simulation. In this specific dataset the fraudulent behavior of the agents aims to profit by taking control or customers accounts and try to empty the funds by transferring to another account and then cashing out of the system.\n",
    "\n",
    "isFlaggedFraud - The business model aims to control massive transfers from one account to another and flags illegal attempts. An illegal attempt in this dataset is an attempt to transfer more than 200.000 in a single transaction."
   ]
  },
  {
   "cell_type": "code",
   "execution_count": 2,
   "id": "8f569c66-97e4-470a-93bd-949c21d61063",
   "metadata": {},
   "outputs": [
    {
     "data": {
      "text/html": [
       "<div>\n",
       "<style scoped>\n",
       "    .dataframe tbody tr th:only-of-type {\n",
       "        vertical-align: middle;\n",
       "    }\n",
       "\n",
       "    .dataframe tbody tr th {\n",
       "        vertical-align: top;\n",
       "    }\n",
       "\n",
       "    .dataframe thead th {\n",
       "        text-align: right;\n",
       "    }\n",
       "</style>\n",
       "<table border=\"1\" class=\"dataframe\">\n",
       "  <thead>\n",
       "    <tr style=\"text-align: right;\">\n",
       "      <th></th>\n",
       "      <th>step</th>\n",
       "      <th>type</th>\n",
       "      <th>amount</th>\n",
       "      <th>nameOrig</th>\n",
       "      <th>oldbalanceOrg</th>\n",
       "      <th>newbalanceOrig</th>\n",
       "      <th>nameDest</th>\n",
       "      <th>oldbalanceDest</th>\n",
       "      <th>newbalanceDest</th>\n",
       "      <th>isFraud</th>\n",
       "      <th>isFlaggedFraud</th>\n",
       "    </tr>\n",
       "  </thead>\n",
       "  <tbody>\n",
       "    <tr>\n",
       "      <th>0</th>\n",
       "      <td>1</td>\n",
       "      <td>PAYMENT</td>\n",
       "      <td>9839.64</td>\n",
       "      <td>C1231006815</td>\n",
       "      <td>170136.0</td>\n",
       "      <td>160296.36</td>\n",
       "      <td>M1979787155</td>\n",
       "      <td>0.0</td>\n",
       "      <td>0.0</td>\n",
       "      <td>0</td>\n",
       "      <td>0</td>\n",
       "    </tr>\n",
       "    <tr>\n",
       "      <th>1</th>\n",
       "      <td>1</td>\n",
       "      <td>PAYMENT</td>\n",
       "      <td>1864.28</td>\n",
       "      <td>C1666544295</td>\n",
       "      <td>21249.0</td>\n",
       "      <td>19384.72</td>\n",
       "      <td>M2044282225</td>\n",
       "      <td>0.0</td>\n",
       "      <td>0.0</td>\n",
       "      <td>0</td>\n",
       "      <td>0</td>\n",
       "    </tr>\n",
       "    <tr>\n",
       "      <th>2</th>\n",
       "      <td>1</td>\n",
       "      <td>TRANSFER</td>\n",
       "      <td>181.00</td>\n",
       "      <td>C1305486145</td>\n",
       "      <td>181.0</td>\n",
       "      <td>0.00</td>\n",
       "      <td>C553264065</td>\n",
       "      <td>0.0</td>\n",
       "      <td>0.0</td>\n",
       "      <td>1</td>\n",
       "      <td>0</td>\n",
       "    </tr>\n",
       "    <tr>\n",
       "      <th>3</th>\n",
       "      <td>1</td>\n",
       "      <td>CASH_OUT</td>\n",
       "      <td>181.00</td>\n",
       "      <td>C840083671</td>\n",
       "      <td>181.0</td>\n",
       "      <td>0.00</td>\n",
       "      <td>C38997010</td>\n",
       "      <td>21182.0</td>\n",
       "      <td>0.0</td>\n",
       "      <td>1</td>\n",
       "      <td>0</td>\n",
       "    </tr>\n",
       "    <tr>\n",
       "      <th>4</th>\n",
       "      <td>1</td>\n",
       "      <td>PAYMENT</td>\n",
       "      <td>11668.14</td>\n",
       "      <td>C2048537720</td>\n",
       "      <td>41554.0</td>\n",
       "      <td>29885.86</td>\n",
       "      <td>M1230701703</td>\n",
       "      <td>0.0</td>\n",
       "      <td>0.0</td>\n",
       "      <td>0</td>\n",
       "      <td>0</td>\n",
       "    </tr>\n",
       "  </tbody>\n",
       "</table>\n",
       "</div>"
      ],
      "text/plain": [
       "   step      type    amount     nameOrig  oldbalanceOrg  newbalanceOrig  \\\n",
       "0     1   PAYMENT   9839.64  C1231006815       170136.0       160296.36   \n",
       "1     1   PAYMENT   1864.28  C1666544295        21249.0        19384.72   \n",
       "2     1  TRANSFER    181.00  C1305486145          181.0            0.00   \n",
       "3     1  CASH_OUT    181.00   C840083671          181.0            0.00   \n",
       "4     1   PAYMENT  11668.14  C2048537720        41554.0        29885.86   \n",
       "\n",
       "      nameDest  oldbalanceDest  newbalanceDest  isFraud  isFlaggedFraud  \n",
       "0  M1979787155             0.0             0.0        0               0  \n",
       "1  M2044282225             0.0             0.0        0               0  \n",
       "2   C553264065             0.0             0.0        1               0  \n",
       "3    C38997010         21182.0             0.0        1               0  \n",
       "4  M1230701703             0.0             0.0        0               0  "
      ]
     },
     "execution_count": 2,
     "metadata": {},
     "output_type": "execute_result"
    }
   ],
   "source": [
    "# importing dataset\n",
    "\n",
    "df = pd.read_csv('Fraud.csv')\n",
    "df.head()"
   ]
  },
  {
   "cell_type": "code",
   "execution_count": 13,
   "id": "29d4373c-74ab-4d8e-b15a-8f3232aed41e",
   "metadata": {},
   "outputs": [
    {
     "data": {
      "text/html": [
       "<div>\n",
       "<style scoped>\n",
       "    .dataframe tbody tr th:only-of-type {\n",
       "        vertical-align: middle;\n",
       "    }\n",
       "\n",
       "    .dataframe tbody tr th {\n",
       "        vertical-align: top;\n",
       "    }\n",
       "\n",
       "    .dataframe thead th {\n",
       "        text-align: right;\n",
       "    }\n",
       "</style>\n",
       "<table border=\"1\" class=\"dataframe\">\n",
       "  <thead>\n",
       "    <tr style=\"text-align: right;\">\n",
       "      <th></th>\n",
       "      <th>step</th>\n",
       "      <th>type</th>\n",
       "      <th>amount</th>\n",
       "      <th>nameOrig</th>\n",
       "      <th>oldbalanceOrg</th>\n",
       "      <th>newbalanceOrig</th>\n",
       "      <th>nameDest</th>\n",
       "      <th>oldbalanceDest</th>\n",
       "      <th>newbalanceDest</th>\n",
       "      <th>isFraud</th>\n",
       "      <th>isFlaggedFraud</th>\n",
       "    </tr>\n",
       "  </thead>\n",
       "  <tbody>\n",
       "  </tbody>\n",
       "</table>\n",
       "</div>"
      ],
      "text/plain": [
       "Empty DataFrame\n",
       "Columns: [step, type, amount, nameOrig, oldbalanceOrg, newbalanceOrig, nameDest, oldbalanceDest, newbalanceDest, isFraud, isFlaggedFraud]\n",
       "Index: []"
      ]
     },
     "execution_count": 13,
     "metadata": {},
     "output_type": "execute_result"
    }
   ],
   "source": [
    "# checking duplicate rows\n",
    "\n",
    "df[df.duplicated()]"
   ]
  },
  {
   "cell_type": "code",
   "execution_count": 11,
   "id": "1ab744f3-7993-4474-be7f-f50734d3e354",
   "metadata": {},
   "outputs": [
    {
     "data": {
      "text/plain": [
       "(6362620, 11)"
      ]
     },
     "execution_count": 11,
     "metadata": {},
     "output_type": "execute_result"
    }
   ],
   "source": [
    "df.shape"
   ]
  },
  {
   "cell_type": "markdown",
   "id": "bc924609-81dd-4042-8601-e566e1a05bcb",
   "metadata": {},
   "source": [
    "#### There are 6362620 rows and 11 columns in the data."
   ]
  },
  {
   "cell_type": "code",
   "execution_count": 20,
   "id": "d180c269-ef70-4fac-adb6-52a94a8ab2dd",
   "metadata": {},
   "outputs": [
    {
     "data": {
      "text/plain": [
       "array([0, 1], dtype=int64)"
      ]
     },
     "execution_count": 20,
     "metadata": {},
     "output_type": "execute_result"
    }
   ],
   "source": [
    "df['isFraud'].unique()"
   ]
  },
  {
   "cell_type": "code",
   "execution_count": 31,
   "id": "95c2af3b-9134-491f-be26-83c75c093f26",
   "metadata": {},
   "outputs": [
    {
     "data": {
      "text/plain": [
       "step              0\n",
       "type              0\n",
       "amount            0\n",
       "nameOrig          0\n",
       "oldbalanceOrg     0\n",
       "newbalanceOrig    0\n",
       "nameDest          0\n",
       "oldbalanceDest    0\n",
       "newbalanceDest    0\n",
       "isFraud           0\n",
       "isFlaggedFraud    0\n",
       "dtype: int64"
      ]
     },
     "execution_count": 31,
     "metadata": {},
     "output_type": "execute_result"
    }
   ],
   "source": [
    "# checking null values\n",
    "\n",
    "df.isnull().sum()"
   ]
  },
  {
   "cell_type": "code",
   "execution_count": 23,
   "id": "67f89816-e95e-417b-960f-97924447c2a2",
   "metadata": {},
   "outputs": [
    {
     "data": {
      "text/plain": [
       "isFraud\n",
       "0    6354407\n",
       "1       8213\n",
       "Name: count, dtype: int64"
      ]
     },
     "execution_count": 23,
     "metadata": {},
     "output_type": "execute_result"
    }
   ],
   "source": [
    "df['isFraud'].value_counts()"
   ]
  },
  {
   "cell_type": "markdown",
   "id": "51f1c56d-603c-4e88-a32b-34ee6db4f046",
   "metadata": {},
   "source": [
    "#### In our dataset, the target variable `isFraud` is highly imbalanced, with 63 lakh instances labeled as `0` (not fraud) and only 8,000 instances labeled as `1` (fraud). Such imbalance can lead to biased models that perform well on the majority class but poorly on the minority class. To mitigate this issue, I applied an undersampling technique."
   ]
  },
  {
   "cell_type": "code",
   "execution_count": 32,
   "id": "2ad6c52e-6ca3-4623-84d3-75a4bde95c1b",
   "metadata": {},
   "outputs": [],
   "source": [
    "# Undersampling\n",
    "\n",
    "from sklearn.utils import resample"
   ]
  },
  {
   "cell_type": "code",
   "execution_count": 26,
   "id": "41eaf651-4b5a-4a1f-a0bf-beb494401845",
   "metadata": {},
   "outputs": [
    {
     "name": "stdout",
     "output_type": "stream",
     "text": [
      "isFraud\n",
      "0    8213\n",
      "1    8213\n",
      "Name: count, dtype: int64\n"
     ]
    }
   ],
   "source": [
    "# Separating majority and minority classes\n",
    "\n",
    "df_majority = df[df['isFraud'] == 0]\n",
    "df_minority = df[df['isFraud'] == 1]\n",
    "\n",
    "# Undersampling majority class\n",
    "df_majority_undersampled = resample(df_majority,\n",
    "                                    replace=False,  # Sample without replacement\n",
    "                                    n_samples=len(df_minority),  # To match minority class\n",
    "                                    random_state=123)  \n",
    "\n",
    "# Concatinating minority class with undersampled majority class\n",
    "df_undersampled = pd.concat([df_majority_undersampled, df_minority])\n",
    "print(df_undersampled['isFraud'].value_counts())"
   ]
  },
  {
   "cell_type": "code",
   "execution_count": 28,
   "id": "7175ecee-152b-4438-ba7a-21ed9e8a5afd",
   "metadata": {},
   "outputs": [
    {
     "data": {
      "text/plain": [
       "(16426, 11)"
      ]
     },
     "execution_count": 28,
     "metadata": {},
     "output_type": "execute_result"
    }
   ],
   "source": [
    "df_undersampled.shape"
   ]
  },
  {
   "cell_type": "code",
   "execution_count": 27,
   "id": "b73cd332-5fe3-49e5-bea0-871f700eac4e",
   "metadata": {},
   "outputs": [
    {
     "data": {
      "text/html": [
       "<div>\n",
       "<style scoped>\n",
       "    .dataframe tbody tr th:only-of-type {\n",
       "        vertical-align: middle;\n",
       "    }\n",
       "\n",
       "    .dataframe tbody tr th {\n",
       "        vertical-align: top;\n",
       "    }\n",
       "\n",
       "    .dataframe thead th {\n",
       "        text-align: right;\n",
       "    }\n",
       "</style>\n",
       "<table border=\"1\" class=\"dataframe\">\n",
       "  <thead>\n",
       "    <tr style=\"text-align: right;\">\n",
       "      <th></th>\n",
       "      <th>step</th>\n",
       "      <th>type</th>\n",
       "      <th>amount</th>\n",
       "      <th>nameOrig</th>\n",
       "      <th>oldbalanceOrg</th>\n",
       "      <th>newbalanceOrig</th>\n",
       "      <th>nameDest</th>\n",
       "      <th>oldbalanceDest</th>\n",
       "      <th>newbalanceDest</th>\n",
       "      <th>isFraud</th>\n",
       "      <th>isFlaggedFraud</th>\n",
       "    </tr>\n",
       "  </thead>\n",
       "  <tbody>\n",
       "    <tr>\n",
       "      <th>5844077</th>\n",
       "      <td>402</td>\n",
       "      <td>PAYMENT</td>\n",
       "      <td>3646.13</td>\n",
       "      <td>C388544972</td>\n",
       "      <td>20532.0</td>\n",
       "      <td>16885.87</td>\n",
       "      <td>M160288501</td>\n",
       "      <td>0.00</td>\n",
       "      <td>0.00</td>\n",
       "      <td>0</td>\n",
       "      <td>0</td>\n",
       "    </tr>\n",
       "    <tr>\n",
       "      <th>6359076</th>\n",
       "      <td>715</td>\n",
       "      <td>CASH_OUT</td>\n",
       "      <td>150708.06</td>\n",
       "      <td>C1172797450</td>\n",
       "      <td>2562.0</td>\n",
       "      <td>0.00</td>\n",
       "      <td>C434060534</td>\n",
       "      <td>544897.92</td>\n",
       "      <td>695605.98</td>\n",
       "      <td>0</td>\n",
       "      <td>0</td>\n",
       "    </tr>\n",
       "    <tr>\n",
       "      <th>5554125</th>\n",
       "      <td>383</td>\n",
       "      <td>PAYMENT</td>\n",
       "      <td>9738.36</td>\n",
       "      <td>C944342245</td>\n",
       "      <td>0.0</td>\n",
       "      <td>0.00</td>\n",
       "      <td>M1240838729</td>\n",
       "      <td>0.00</td>\n",
       "      <td>0.00</td>\n",
       "      <td>0</td>\n",
       "      <td>0</td>\n",
       "    </tr>\n",
       "    <tr>\n",
       "      <th>6121974</th>\n",
       "      <td>540</td>\n",
       "      <td>PAYMENT</td>\n",
       "      <td>1533.54</td>\n",
       "      <td>C1474765044</td>\n",
       "      <td>49852.0</td>\n",
       "      <td>48318.46</td>\n",
       "      <td>M1365306187</td>\n",
       "      <td>0.00</td>\n",
       "      <td>0.00</td>\n",
       "      <td>0</td>\n",
       "      <td>0</td>\n",
       "    </tr>\n",
       "    <tr>\n",
       "      <th>2434094</th>\n",
       "      <td>203</td>\n",
       "      <td>PAYMENT</td>\n",
       "      <td>27865.80</td>\n",
       "      <td>C1628165387</td>\n",
       "      <td>0.0</td>\n",
       "      <td>0.00</td>\n",
       "      <td>M66521494</td>\n",
       "      <td>0.00</td>\n",
       "      <td>0.00</td>\n",
       "      <td>0</td>\n",
       "      <td>0</td>\n",
       "    </tr>\n",
       "  </tbody>\n",
       "</table>\n",
       "</div>"
      ],
      "text/plain": [
       "         step      type     amount     nameOrig  oldbalanceOrg  \\\n",
       "5844077   402   PAYMENT    3646.13   C388544972        20532.0   \n",
       "6359076   715  CASH_OUT  150708.06  C1172797450         2562.0   \n",
       "5554125   383   PAYMENT    9738.36   C944342245            0.0   \n",
       "6121974   540   PAYMENT    1533.54  C1474765044        49852.0   \n",
       "2434094   203   PAYMENT   27865.80  C1628165387            0.0   \n",
       "\n",
       "         newbalanceOrig     nameDest  oldbalanceDest  newbalanceDest  isFraud  \\\n",
       "5844077        16885.87   M160288501            0.00            0.00        0   \n",
       "6359076            0.00   C434060534       544897.92       695605.98        0   \n",
       "5554125            0.00  M1240838729            0.00            0.00        0   \n",
       "6121974        48318.46  M1365306187            0.00            0.00        0   \n",
       "2434094            0.00    M66521494            0.00            0.00        0   \n",
       "\n",
       "         isFlaggedFraud  \n",
       "5844077               0  \n",
       "6359076               0  \n",
       "5554125               0  \n",
       "6121974               0  \n",
       "2434094               0  "
      ]
     },
     "execution_count": 27,
     "metadata": {},
     "output_type": "execute_result"
    }
   ],
   "source": [
    "df_undersampled.head()"
   ]
  },
  {
   "cell_type": "code",
   "execution_count": 29,
   "id": "dc46f169-0a81-4e58-b62b-87828f6682c8",
   "metadata": {},
   "outputs": [],
   "source": [
    "# saving the undersampled file\n",
    "\n",
    "df_undersampled.to_csv('undersampled_data.csv',index=False)"
   ]
  },
  {
   "cell_type": "code",
   "execution_count": 34,
   "id": "32e5a06e-2521-4c7c-8fe1-b6ae6f12578c",
   "metadata": {},
   "outputs": [
    {
     "data": {
      "text/html": [
       "<div>\n",
       "<style scoped>\n",
       "    .dataframe tbody tr th:only-of-type {\n",
       "        vertical-align: middle;\n",
       "    }\n",
       "\n",
       "    .dataframe tbody tr th {\n",
       "        vertical-align: top;\n",
       "    }\n",
       "\n",
       "    .dataframe thead th {\n",
       "        text-align: right;\n",
       "    }\n",
       "</style>\n",
       "<table border=\"1\" class=\"dataframe\">\n",
       "  <thead>\n",
       "    <tr style=\"text-align: right;\">\n",
       "      <th></th>\n",
       "      <th>type</th>\n",
       "      <th>amount</th>\n",
       "      <th>oldbalanceOrg</th>\n",
       "      <th>newbalanceOrig</th>\n",
       "      <th>oldbalanceDest</th>\n",
       "      <th>newbalanceDest</th>\n",
       "      <th>isFraud</th>\n",
       "      <th>isFlaggedFraud</th>\n",
       "    </tr>\n",
       "  </thead>\n",
       "  <tbody>\n",
       "    <tr>\n",
       "      <th>5844077</th>\n",
       "      <td>PAYMENT</td>\n",
       "      <td>3646.13</td>\n",
       "      <td>20532.0</td>\n",
       "      <td>16885.87</td>\n",
       "      <td>0.00</td>\n",
       "      <td>0.00</td>\n",
       "      <td>0</td>\n",
       "      <td>0</td>\n",
       "    </tr>\n",
       "    <tr>\n",
       "      <th>6359076</th>\n",
       "      <td>CASH_OUT</td>\n",
       "      <td>150708.06</td>\n",
       "      <td>2562.0</td>\n",
       "      <td>0.00</td>\n",
       "      <td>544897.92</td>\n",
       "      <td>695605.98</td>\n",
       "      <td>0</td>\n",
       "      <td>0</td>\n",
       "    </tr>\n",
       "    <tr>\n",
       "      <th>5554125</th>\n",
       "      <td>PAYMENT</td>\n",
       "      <td>9738.36</td>\n",
       "      <td>0.0</td>\n",
       "      <td>0.00</td>\n",
       "      <td>0.00</td>\n",
       "      <td>0.00</td>\n",
       "      <td>0</td>\n",
       "      <td>0</td>\n",
       "    </tr>\n",
       "    <tr>\n",
       "      <th>6121974</th>\n",
       "      <td>PAYMENT</td>\n",
       "      <td>1533.54</td>\n",
       "      <td>49852.0</td>\n",
       "      <td>48318.46</td>\n",
       "      <td>0.00</td>\n",
       "      <td>0.00</td>\n",
       "      <td>0</td>\n",
       "      <td>0</td>\n",
       "    </tr>\n",
       "    <tr>\n",
       "      <th>2434094</th>\n",
       "      <td>PAYMENT</td>\n",
       "      <td>27865.80</td>\n",
       "      <td>0.0</td>\n",
       "      <td>0.00</td>\n",
       "      <td>0.00</td>\n",
       "      <td>0.00</td>\n",
       "      <td>0</td>\n",
       "      <td>0</td>\n",
       "    </tr>\n",
       "  </tbody>\n",
       "</table>\n",
       "</div>"
      ],
      "text/plain": [
       "             type     amount  oldbalanceOrg  newbalanceOrig  oldbalanceDest  \\\n",
       "5844077   PAYMENT    3646.13        20532.0        16885.87            0.00   \n",
       "6359076  CASH_OUT  150708.06         2562.0            0.00       544897.92   \n",
       "5554125   PAYMENT    9738.36            0.0            0.00            0.00   \n",
       "6121974   PAYMENT    1533.54        49852.0        48318.46            0.00   \n",
       "2434094   PAYMENT   27865.80            0.0            0.00            0.00   \n",
       "\n",
       "         newbalanceDest  isFraud  isFlaggedFraud  \n",
       "5844077            0.00        0               0  \n",
       "6359076       695605.98        0               0  \n",
       "5554125            0.00        0               0  \n",
       "6121974            0.00        0               0  \n",
       "2434094            0.00        0               0  "
      ]
     },
     "execution_count": 34,
     "metadata": {},
     "output_type": "execute_result"
    }
   ],
   "source": [
    "# Dropping unnecessary features\n",
    "\n",
    "''' nameOrig and nameDest: These are identifiers for the origin and destination accounts. \n",
    "Since they are unique to each transaction and do not carry significant predictive information,\n",
    "so they are not useful for model training.\n",
    "\n",
    "step: This feature is also not useful for model training'''\n",
    "\n",
    "df = df_undersampled.drop(columns=['step','nameOrig','nameDest'])\n",
    "df.head()"
   ]
  },
  {
   "cell_type": "code",
   "execution_count": 36,
   "id": "c8343895-7d12-45e0-a0bf-3ebdcce563cb",
   "metadata": {},
   "outputs": [
    {
     "data": {
      "text/html": [
       "<div>\n",
       "<style scoped>\n",
       "    .dataframe tbody tr th:only-of-type {\n",
       "        vertical-align: middle;\n",
       "    }\n",
       "\n",
       "    .dataframe tbody tr th {\n",
       "        vertical-align: top;\n",
       "    }\n",
       "\n",
       "    .dataframe thead th {\n",
       "        text-align: right;\n",
       "    }\n",
       "</style>\n",
       "<table border=\"1\" class=\"dataframe\">\n",
       "  <thead>\n",
       "    <tr style=\"text-align: right;\">\n",
       "      <th></th>\n",
       "      <th>amount</th>\n",
       "      <th>oldbalanceOrg</th>\n",
       "      <th>newbalanceOrig</th>\n",
       "      <th>oldbalanceDest</th>\n",
       "      <th>newbalanceDest</th>\n",
       "      <th>isFraud</th>\n",
       "      <th>isFlaggedFraud</th>\n",
       "    </tr>\n",
       "  </thead>\n",
       "  <tbody>\n",
       "    <tr>\n",
       "      <th>amount</th>\n",
       "      <td>1.000000</td>\n",
       "      <td>0.645471</td>\n",
       "      <td>0.122881</td>\n",
       "      <td>-0.002616</td>\n",
       "      <td>0.259960</td>\n",
       "      <td>0.347815</td>\n",
       "      <td>0.068048</td>\n",
       "    </tr>\n",
       "    <tr>\n",
       "      <th>oldbalanceOrg</th>\n",
       "      <td>0.645471</td>\n",
       "      <td>1.000000</td>\n",
       "      <td>0.826687</td>\n",
       "      <td>0.013751</td>\n",
       "      <td>0.127222</td>\n",
       "      <td>0.122817</td>\n",
       "      <td>0.062647</td>\n",
       "    </tr>\n",
       "    <tr>\n",
       "      <th>newbalanceOrig</th>\n",
       "      <td>0.122881</td>\n",
       "      <td>0.826687</td>\n",
       "      <td>1.000000</td>\n",
       "      <td>0.047301</td>\n",
       "      <td>0.010804</td>\n",
       "      <td>-0.133414</td>\n",
       "      <td>0.089691</td>\n",
       "    </tr>\n",
       "    <tr>\n",
       "      <th>oldbalanceDest</th>\n",
       "      <td>-0.002616</td>\n",
       "      <td>0.013751</td>\n",
       "      <td>0.047301</td>\n",
       "      <td>1.000000</td>\n",
       "      <td>0.921093</td>\n",
       "      <td>-0.084953</td>\n",
       "      <td>-0.007812</td>\n",
       "    </tr>\n",
       "    <tr>\n",
       "      <th>newbalanceDest</th>\n",
       "      <td>0.259960</td>\n",
       "      <td>0.127222</td>\n",
       "      <td>0.010804</td>\n",
       "      <td>0.921093</td>\n",
       "      <td>1.000000</td>\n",
       "      <td>0.007316</td>\n",
       "      <td>-0.010679</td>\n",
       "    </tr>\n",
       "    <tr>\n",
       "      <th>isFraud</th>\n",
       "      <td>0.347815</td>\n",
       "      <td>0.122817</td>\n",
       "      <td>-0.133414</td>\n",
       "      <td>-0.084953</td>\n",
       "      <td>0.007316</td>\n",
       "      <td>1.000000</td>\n",
       "      <td>0.031225</td>\n",
       "    </tr>\n",
       "    <tr>\n",
       "      <th>isFlaggedFraud</th>\n",
       "      <td>0.068048</td>\n",
       "      <td>0.062647</td>\n",
       "      <td>0.089691</td>\n",
       "      <td>-0.007812</td>\n",
       "      <td>-0.010679</td>\n",
       "      <td>0.031225</td>\n",
       "      <td>1.000000</td>\n",
       "    </tr>\n",
       "  </tbody>\n",
       "</table>\n",
       "</div>"
      ],
      "text/plain": [
       "                  amount  oldbalanceOrg  newbalanceOrig  oldbalanceDest  \\\n",
       "amount          1.000000       0.645471        0.122881       -0.002616   \n",
       "oldbalanceOrg   0.645471       1.000000        0.826687        0.013751   \n",
       "newbalanceOrig  0.122881       0.826687        1.000000        0.047301   \n",
       "oldbalanceDest -0.002616       0.013751        0.047301        1.000000   \n",
       "newbalanceDest  0.259960       0.127222        0.010804        0.921093   \n",
       "isFraud         0.347815       0.122817       -0.133414       -0.084953   \n",
       "isFlaggedFraud  0.068048       0.062647        0.089691       -0.007812   \n",
       "\n",
       "                newbalanceDest   isFraud  isFlaggedFraud  \n",
       "amount                0.259960  0.347815        0.068048  \n",
       "oldbalanceOrg         0.127222  0.122817        0.062647  \n",
       "newbalanceOrig        0.010804 -0.133414        0.089691  \n",
       "oldbalanceDest        0.921093 -0.084953       -0.007812  \n",
       "newbalanceDest        1.000000  0.007316       -0.010679  \n",
       "isFraud               0.007316  1.000000        0.031225  \n",
       "isFlaggedFraud       -0.010679  0.031225        1.000000  "
      ]
     },
     "execution_count": 36,
     "metadata": {},
     "output_type": "execute_result"
    }
   ],
   "source": [
    "# Correlation between features \n",
    "# Positive Correlation: As one variable increases, the other variable also increases. The correlation coefficient (usually denoted as r) is positive and ranges from 0 to +1.\n",
    "# Negative Correlation: As one variable increases, the other variable decreases. The correlation coefficient is negative and ranges from 0 to -1.\n",
    "# Zero Correlation: There is no relationship between the two variables. The correlation coefficient is close to 0.\n",
    "\n",
    "df_correlation = df.drop(columns=['type'])\n",
    "df_correlation.corr()"
   ]
  },
  {
   "cell_type": "code",
   "execution_count": 37,
   "id": "32405551-6c05-4988-852c-55065e2f7da2",
   "metadata": {},
   "outputs": [
    {
     "data": {
      "text/plain": [
       "<Axes: >"
      ]
     },
     "execution_count": 37,
     "metadata": {},
     "output_type": "execute_result"
    },
    {
     "data": {
      "image/png": "[encoded data removed]",
      "text/plain": [
       "<Figure size 1000x500 with 2 Axes>"
      ]
     },
     "metadata": {},
     "output_type": "display_data"
    }
   ],
   "source": [
    "# Using Heatmap for better understanding\n",
    "\n",
    "plt.figure(figsize=(10,5))\n",
    "sns.heatmap(df_correlation.corr(),annot=True)"
   ]
  },
  {
   "cell_type": "markdown",
   "id": "3116c776-6b8f-4a62-9f8b-1aae0d78b7bc",
   "metadata": {},
   "source": [
    "#### From this we can conclude that\n",
    "\n",
    "1. oldbalanceOrg and newbalanceOrig are highly positively correlated. This suggests that one of each pair could potentially be redundant and might be removed depending on further analysis.\n",
    "2. Similarly, oldbalanceDest and newbalanceDest are highly positively correlated. This suggests that one of each pair could potentially be redundant and might be removed depending on further analysis.\n",
    "3. The isFraud and isFlaggedFraud features have very weak correlations with other variables, indicating that more complex interactions or additional features might be needed to accurately predict fraud."
   ]
  },
  {
   "cell_type": "code",
   "execution_count": 38,
   "id": "3d958a49-8478-4e8f-87d7-56eb10039b92",
   "metadata": {},
   "outputs": [
    {
     "data": {
      "text/plain": [
       "array(['PAYMENT', 'CASH_OUT', 'CASH_IN', 'TRANSFER', 'DEBIT'],\n",
       "      dtype=object)"
      ]
     },
     "execution_count": 38,
     "metadata": {},
     "output_type": "execute_result"
    }
   ],
   "source": [
    "df['type'].unique()"
   ]
  },
  {
   "cell_type": "code",
   "execution_count": 39,
   "id": "221d172f-0fb7-4e1e-805d-c2d8c2f57423",
   "metadata": {},
   "outputs": [],
   "source": [
    "# mapping values (handling categorical feature)\n",
    "\n",
    "category_mapping = {\n",
    "    'PAYMENT': 0,\n",
    "    'TRANSFER': 1,\n",
    "    'CASH_OUT': 2,\n",
    "    'DEBIT': 3,\n",
    "    'CASH_IN': 4\n",
    "}\n",
    "\n",
    "df['transaction_type'] = df['type'].map(category_mapping)"
   ]
  },
  {
   "cell_type": "code",
   "execution_count": 40,
   "id": "2f31f345-4d60-4c23-aa1f-1ee1b1e11ea8",
   "metadata": {},
   "outputs": [
    {
     "data": {
      "text/plain": [
       "<Axes: xlabel='type', ylabel='isFraud'>"
      ]
     },
     "execution_count": 40,
     "metadata": {},
     "output_type": "execute_result"
    },
    {
     "data": {
      "image/png": "[encoded data removed]",
      "text/plain": [
       "<Figure size 640x480 with 1 Axes>"
      ]
     },
     "metadata": {},
     "output_type": "display_data"
    }
   ],
   "source": [
    "sns.barplot(x=df['type'],y=df['isFraud'])"
   ]
  },
  {
   "cell_type": "markdown",
   "id": "a3bc1394-5d57-4595-b38c-95e9db29e988",
   "metadata": {},
   "source": [
    "#### This graph shows that the majority of fraudulent activities occur during TRANSFER transactions, making them the most common type of fraud. This is followed by CASH_OUT transactions"
   ]
  },
  {
   "cell_type": "code",
   "execution_count": 41,
   "id": "2f668450-2272-4ae4-bcca-a4d07726e90e",
   "metadata": {},
   "outputs": [
    {
     "data": {
      "text/html": [
       "<div>\n",
       "<style scoped>\n",
       "    .dataframe tbody tr th:only-of-type {\n",
       "        vertical-align: middle;\n",
       "    }\n",
       "\n",
       "    .dataframe tbody tr th {\n",
       "        vertical-align: top;\n",
       "    }\n",
       "\n",
       "    .dataframe thead th {\n",
       "        text-align: right;\n",
       "    }\n",
       "</style>\n",
       "<table border=\"1\" class=\"dataframe\">\n",
       "  <thead>\n",
       "    <tr style=\"text-align: right;\">\n",
       "      <th></th>\n",
       "      <th>type</th>\n",
       "      <th>amount</th>\n",
       "      <th>oldbalanceOrg</th>\n",
       "      <th>newbalanceOrig</th>\n",
       "      <th>oldbalanceDest</th>\n",
       "      <th>newbalanceDest</th>\n",
       "      <th>isFraud</th>\n",
       "      <th>isFlaggedFraud</th>\n",
       "      <th>transaction_type</th>\n",
       "    </tr>\n",
       "  </thead>\n",
       "  <tbody>\n",
       "    <tr>\n",
       "      <th>5844077</th>\n",
       "      <td>PAYMENT</td>\n",
       "      <td>3646.13</td>\n",
       "      <td>20532.0</td>\n",
       "      <td>16885.87</td>\n",
       "      <td>0.00</td>\n",
       "      <td>0.00</td>\n",
       "      <td>0</td>\n",
       "      <td>0</td>\n",
       "      <td>0</td>\n",
       "    </tr>\n",
       "    <tr>\n",
       "      <th>6359076</th>\n",
       "      <td>CASH_OUT</td>\n",
       "      <td>150708.06</td>\n",
       "      <td>2562.0</td>\n",
       "      <td>0.00</td>\n",
       "      <td>544897.92</td>\n",
       "      <td>695605.98</td>\n",
       "      <td>0</td>\n",
       "      <td>0</td>\n",
       "      <td>2</td>\n",
       "    </tr>\n",
       "    <tr>\n",
       "      <th>5554125</th>\n",
       "      <td>PAYMENT</td>\n",
       "      <td>9738.36</td>\n",
       "      <td>0.0</td>\n",
       "      <td>0.00</td>\n",
       "      <td>0.00</td>\n",
       "      <td>0.00</td>\n",
       "      <td>0</td>\n",
       "      <td>0</td>\n",
       "      <td>0</td>\n",
       "    </tr>\n",
       "    <tr>\n",
       "      <th>6121974</th>\n",
       "      <td>PAYMENT</td>\n",
       "      <td>1533.54</td>\n",
       "      <td>49852.0</td>\n",
       "      <td>48318.46</td>\n",
       "      <td>0.00</td>\n",
       "      <td>0.00</td>\n",
       "      <td>0</td>\n",
       "      <td>0</td>\n",
       "      <td>0</td>\n",
       "    </tr>\n",
       "    <tr>\n",
       "      <th>2434094</th>\n",
       "      <td>PAYMENT</td>\n",
       "      <td>27865.80</td>\n",
       "      <td>0.0</td>\n",
       "      <td>0.00</td>\n",
       "      <td>0.00</td>\n",
       "      <td>0.00</td>\n",
       "      <td>0</td>\n",
       "      <td>0</td>\n",
       "      <td>0</td>\n",
       "    </tr>\n",
       "  </tbody>\n",
       "</table>\n",
       "</div>"
      ],
      "text/plain": [
       "             type     amount  oldbalanceOrg  newbalanceOrig  oldbalanceDest  \\\n",
       "5844077   PAYMENT    3646.13        20532.0        16885.87            0.00   \n",
       "6359076  CASH_OUT  150708.06         2562.0            0.00       544897.92   \n",
       "5554125   PAYMENT    9738.36            0.0            0.00            0.00   \n",
       "6121974   PAYMENT    1533.54        49852.0        48318.46            0.00   \n",
       "2434094   PAYMENT   27865.80            0.0            0.00            0.00   \n",
       "\n",
       "         newbalanceDest  isFraud  isFlaggedFraud  transaction_type  \n",
       "5844077            0.00        0               0                 0  \n",
       "6359076       695605.98        0               0                 2  \n",
       "5554125            0.00        0               0                 0  \n",
       "6121974            0.00        0               0                 0  \n",
       "2434094            0.00        0               0                 0  "
      ]
     },
     "execution_count": 41,
     "metadata": {},
     "output_type": "execute_result"
    }
   ],
   "source": [
    "df.head()"
   ]
  },
  {
   "cell_type": "code",
   "execution_count": 43,
   "id": "e1c7dbf2-0d00-4ea5-81d8-a9333465e2a1",
   "metadata": {},
   "outputs": [
    {
     "data": {
      "text/plain": [
       "<Axes: xlabel='amount'>"
      ]
     },
     "execution_count": 43,
     "metadata": {},
     "output_type": "execute_result"
    },
    {
     "data": {
      "image/png": "[encoded data removed]",
      "text/plain": [
       "<Figure size 640x480 with 1 Axes>"
      ]
     },
     "metadata": {},
     "output_type": "display_data"
    }
   ],
   "source": [
    "df['amount'].value_counts().sort_values(ascending = False).head().plot(kind = 'bar')"
   ]
  },
  {
   "cell_type": "markdown",
   "id": "aef3ec69-59be-4a54-935c-6c03b4a2e11c",
   "metadata": {},
   "source": [
    "#### The most frequent transaction amount is 10,000,000 occurring more. This suggests that there may be a common transaction size or a default value used for certain types of transactions."
   ]
  },
  {
   "cell_type": "code",
   "execution_count": 44,
   "id": "7a44bfff-55ae-405d-8ce4-98d1dd4c302c",
   "metadata": {},
   "outputs": [
    {
     "data": {
      "text/plain": [
       "Text(0.5, 1.0, 'Count of each type of transaction')"
      ]
     },
     "execution_count": 44,
     "metadata": {},
     "output_type": "execute_result"
    },
    {
     "data": {
      "image/png": "[encoded data removed]",
      "text/plain": [
       "<Figure size 600x600 with 1 Axes>"
      ]
     },
     "metadata": {},
     "output_type": "display_data"
    }
   ],
   "source": [
    "counts = df.groupby('type').count()['amount']\n",
    "plt.figure(figsize = (6,6))\n",
    "plt.pie(counts, labels = counts.index, autopct = \"%1.1f%%\")\n",
    "plt.title('Count of each type of transaction')"
   ]
  },
  {
   "cell_type": "markdown",
   "id": "e64671da-354c-4899-a248-46041941aa5d",
   "metadata": {},
   "source": [
    "1. CASH-OUT has the hight count, followed by CASH-IN and PAYMENT.\n",
    "2. Analyzing the distribution of transaction types helps financial institutions assess risks and develop effective mitigation strategies.\n",
    "3. A higher frequency of certain transaction types may necessitate stronger security protocols or increased monitoring to reduce the risk of fraud or financial loss.\n",
    "4. Studying transaction types can reveal valuable insights into customer behavior and preferences, enabling the development of targeted marketing strategies and tailored product offerings."
   ]
  },
  {
   "cell_type": "code",
   "execution_count": 45,
   "id": "32a70848-ae87-48db-ba46-c89add995914",
   "metadata": {},
   "outputs": [
    {
     "data": {
      "text/html": [
       "<div>\n",
       "<style scoped>\n",
       "    .dataframe tbody tr th:only-of-type {\n",
       "        vertical-align: middle;\n",
       "    }\n",
       "\n",
       "    .dataframe tbody tr th {\n",
       "        vertical-align: top;\n",
       "    }\n",
       "\n",
       "    .dataframe thead th {\n",
       "        text-align: right;\n",
       "    }\n",
       "</style>\n",
       "<table border=\"1\" class=\"dataframe\">\n",
       "  <thead>\n",
       "    <tr style=\"text-align: right;\">\n",
       "      <th></th>\n",
       "      <th>type</th>\n",
       "      <th>amount</th>\n",
       "      <th>oldbalanceOrg</th>\n",
       "      <th>newbalanceOrig</th>\n",
       "      <th>oldbalanceDest</th>\n",
       "      <th>newbalanceDest</th>\n",
       "      <th>isFraud</th>\n",
       "      <th>isFlaggedFraud</th>\n",
       "      <th>transaction_type</th>\n",
       "    </tr>\n",
       "  </thead>\n",
       "  <tbody>\n",
       "    <tr>\n",
       "      <th>5844077</th>\n",
       "      <td>PAYMENT</td>\n",
       "      <td>3646.13</td>\n",
       "      <td>20532.0</td>\n",
       "      <td>16885.87</td>\n",
       "      <td>0.00</td>\n",
       "      <td>0.00</td>\n",
       "      <td>0</td>\n",
       "      <td>0</td>\n",
       "      <td>0</td>\n",
       "    </tr>\n",
       "    <tr>\n",
       "      <th>6359076</th>\n",
       "      <td>CASH_OUT</td>\n",
       "      <td>150708.06</td>\n",
       "      <td>2562.0</td>\n",
       "      <td>0.00</td>\n",
       "      <td>544897.92</td>\n",
       "      <td>695605.98</td>\n",
       "      <td>0</td>\n",
       "      <td>0</td>\n",
       "      <td>2</td>\n",
       "    </tr>\n",
       "    <tr>\n",
       "      <th>5554125</th>\n",
       "      <td>PAYMENT</td>\n",
       "      <td>9738.36</td>\n",
       "      <td>0.0</td>\n",
       "      <td>0.00</td>\n",
       "      <td>0.00</td>\n",
       "      <td>0.00</td>\n",
       "      <td>0</td>\n",
       "      <td>0</td>\n",
       "      <td>0</td>\n",
       "    </tr>\n",
       "    <tr>\n",
       "      <th>6121974</th>\n",
       "      <td>PAYMENT</td>\n",
       "      <td>1533.54</td>\n",
       "      <td>49852.0</td>\n",
       "      <td>48318.46</td>\n",
       "      <td>0.00</td>\n",
       "      <td>0.00</td>\n",
       "      <td>0</td>\n",
       "      <td>0</td>\n",
       "      <td>0</td>\n",
       "    </tr>\n",
       "    <tr>\n",
       "      <th>2434094</th>\n",
       "      <td>PAYMENT</td>\n",
       "      <td>27865.80</td>\n",
       "      <td>0.0</td>\n",
       "      <td>0.00</td>\n",
       "      <td>0.00</td>\n",
       "      <td>0.00</td>\n",
       "      <td>0</td>\n",
       "      <td>0</td>\n",
       "      <td>0</td>\n",
       "    </tr>\n",
       "  </tbody>\n",
       "</table>\n",
       "</div>"
      ],
      "text/plain": [
       "             type     amount  oldbalanceOrg  newbalanceOrig  oldbalanceDest  \\\n",
       "5844077   PAYMENT    3646.13        20532.0        16885.87            0.00   \n",
       "6359076  CASH_OUT  150708.06         2562.0            0.00       544897.92   \n",
       "5554125   PAYMENT    9738.36            0.0            0.00            0.00   \n",
       "6121974   PAYMENT    1533.54        49852.0        48318.46            0.00   \n",
       "2434094   PAYMENT   27865.80            0.0            0.00            0.00   \n",
       "\n",
       "         newbalanceDest  isFraud  isFlaggedFraud  transaction_type  \n",
       "5844077            0.00        0               0                 0  \n",
       "6359076       695605.98        0               0                 2  \n",
       "5554125            0.00        0               0                 0  \n",
       "6121974            0.00        0               0                 0  \n",
       "2434094            0.00        0               0                 0  "
      ]
     },
     "execution_count": 45,
     "metadata": {},
     "output_type": "execute_result"
    }
   ],
   "source": [
    "df.head()"
   ]
  },
  {
   "cell_type": "code",
   "execution_count": 46,
   "id": "2030c69a-601b-4d9a-97c5-2b25f08a32b8",
   "metadata": {},
   "outputs": [],
   "source": [
    "# Removing the columns that are not necessary for the data modeling\n",
    "# isFlaggedFraud is not much correlated with any other variable\n",
    "# the correlation value is high with newbalanceOrig of oldbalanceOrg\n",
    "# the correlation value is high with newbalanceDest of oldbalanceDest\n",
    "# We can drop one of the feature from both the columns but not removing for now as the dataset is already small now\n",
    "\n",
    "df.drop(['isFlaggedFraud','type'], axis = 1, inplace = True)"
   ]
  },
  {
   "cell_type": "code",
   "execution_count": 47,
   "id": "f0c84c61-d478-419b-8949-79a793bdb0e7",
   "metadata": {},
   "outputs": [
    {
     "data": {
      "text/html": [
       "<div>\n",
       "<style scoped>\n",
       "    .dataframe tbody tr th:only-of-type {\n",
       "        vertical-align: middle;\n",
       "    }\n",
       "\n",
       "    .dataframe tbody tr th {\n",
       "        vertical-align: top;\n",
       "    }\n",
       "\n",
       "    .dataframe thead th {\n",
       "        text-align: right;\n",
       "    }\n",
       "</style>\n",
       "<table border=\"1\" class=\"dataframe\">\n",
       "  <thead>\n",
       "    <tr style=\"text-align: right;\">\n",
       "      <th></th>\n",
       "      <th>amount</th>\n",
       "      <th>oldbalanceOrg</th>\n",
       "      <th>newbalanceOrig</th>\n",
       "      <th>oldbalanceDest</th>\n",
       "      <th>newbalanceDest</th>\n",
       "      <th>isFraud</th>\n",
       "      <th>transaction_type</th>\n",
       "    </tr>\n",
       "  </thead>\n",
       "  <tbody>\n",
       "    <tr>\n",
       "      <th>5844077</th>\n",
       "      <td>3646.13</td>\n",
       "      <td>20532.0</td>\n",
       "      <td>16885.87</td>\n",
       "      <td>0.00</td>\n",
       "      <td>0.00</td>\n",
       "      <td>0</td>\n",
       "      <td>0</td>\n",
       "    </tr>\n",
       "    <tr>\n",
       "      <th>6359076</th>\n",
       "      <td>150708.06</td>\n",
       "      <td>2562.0</td>\n",
       "      <td>0.00</td>\n",
       "      <td>544897.92</td>\n",
       "      <td>695605.98</td>\n",
       "      <td>0</td>\n",
       "      <td>2</td>\n",
       "    </tr>\n",
       "    <tr>\n",
       "      <th>5554125</th>\n",
       "      <td>9738.36</td>\n",
       "      <td>0.0</td>\n",
       "      <td>0.00</td>\n",
       "      <td>0.00</td>\n",
       "      <td>0.00</td>\n",
       "      <td>0</td>\n",
       "      <td>0</td>\n",
       "    </tr>\n",
       "    <tr>\n",
       "      <th>6121974</th>\n",
       "      <td>1533.54</td>\n",
       "      <td>49852.0</td>\n",
       "      <td>48318.46</td>\n",
       "      <td>0.00</td>\n",
       "      <td>0.00</td>\n",
       "      <td>0</td>\n",
       "      <td>0</td>\n",
       "    </tr>\n",
       "    <tr>\n",
       "      <th>2434094</th>\n",
       "      <td>27865.80</td>\n",
       "      <td>0.0</td>\n",
       "      <td>0.00</td>\n",
       "      <td>0.00</td>\n",
       "      <td>0.00</td>\n",
       "      <td>0</td>\n",
       "      <td>0</td>\n",
       "    </tr>\n",
       "  </tbody>\n",
       "</table>\n",
       "</div>"
      ],
      "text/plain": [
       "            amount  oldbalanceOrg  newbalanceOrig  oldbalanceDest  \\\n",
       "5844077    3646.13        20532.0        16885.87            0.00   \n",
       "6359076  150708.06         2562.0            0.00       544897.92   \n",
       "5554125    9738.36            0.0            0.00            0.00   \n",
       "6121974    1533.54        49852.0        48318.46            0.00   \n",
       "2434094   27865.80            0.0            0.00            0.00   \n",
       "\n",
       "         newbalanceDest  isFraud  transaction_type  \n",
       "5844077            0.00        0                 0  \n",
       "6359076       695605.98        0                 2  \n",
       "5554125            0.00        0                 0  \n",
       "6121974            0.00        0                 0  \n",
       "2434094            0.00        0                 0  "
      ]
     },
     "execution_count": 47,
     "metadata": {},
     "output_type": "execute_result"
    }
   ],
   "source": [
    "# This is the final data that we are going to use to train the model\n",
    "\n",
    "df.head()"
   ]
  },
  {
   "cell_type": "code",
   "execution_count": 72,
   "id": "5e93ecc1-3bf4-47fd-8b15-4585b4b2e2b6",
   "metadata": {},
   "outputs": [],
   "source": [
    "#### If you want to check whether feature is guassian or normal distributed\n",
    "#### Q-Q plot\n",
    "\n",
    "def plot_data(df,feature):\n",
    "    plt.figure(figsize=(6,5))\n",
    "    plt.subplot(1,2,1)\n",
    "    df[feature].hist()\n",
    "    plt.subplot(1,2,2)\n",
    "    stats.probplot(df[feature],dist='norm',plot=pylab)\n",
    "    plt.show()"
   ]
  },
  {
   "cell_type": "code",
   "execution_count": 73,
   "id": "fd976962-14ef-4c09-9214-b4cc7b57f10a",
   "metadata": {},
   "outputs": [],
   "source": [
    "# library for stats\n",
    "\n",
    "import scipy.stats as stats\n",
    "import pylab"
   ]
  },
  {
   "cell_type": "code",
   "execution_count": 74,
   "id": "4be7c165-d5bd-4864-ab33-e2b8d945142c",
   "metadata": {},
   "outputs": [
    {
     "data": {
      "image/png": "[encoded data removed]",
      "text/plain": [
       "<Figure size 600x500 with 2 Axes>"
      ]
     },
     "metadata": {},
     "output_type": "display_data"
    }
   ],
   "source": [
    "plot_data(df,'amount')"
   ]
  },
  {
   "cell_type": "code",
   "execution_count": 75,
   "id": "1069811b-fad2-451b-b709-98c13bfb5ce8",
   "metadata": {},
   "outputs": [
    {
     "data": {
      "image/png": "[encoded data removed]",
      "text/plain": [
       "<Figure size 600x500 with 2 Axes>"
      ]
     },
     "metadata": {},
     "output_type": "display_data"
    }
   ],
   "source": [
    "plot_data(df,'oldbalanceOrg')"
   ]
  },
  {
   "cell_type": "code",
   "execution_count": 76,
   "id": "cc9b0913-52cc-4ef0-a1c6-d111165a81c5",
   "metadata": {},
   "outputs": [
    {
     "data": {
      "image/png": "[encoded data removed]",
      "text/plain": [
       "<Figure size 600x500 with 2 Axes>"
      ]
     },
     "metadata": {},
     "output_type": "display_data"
    }
   ],
   "source": [
    "plot_data(df,'newbalanceOrig')"
   ]
  },
  {
   "cell_type": "code",
   "execution_count": 77,
   "id": "02329820-b744-4516-bd15-aafec2b7d665",
   "metadata": {},
   "outputs": [
    {
     "data": {
      "image/png": "[encoded data removed]",
      "text/plain": [
       "<Figure size 600x500 with 2 Axes>"
      ]
     },
     "metadata": {},
     "output_type": "display_data"
    }
   ],
   "source": [
    "plot_data(df,'oldbalanceDest')"
   ]
  },
  {
   "cell_type": "code",
   "execution_count": 80,
   "id": "8173032e-9edc-4665-915d-5bfd28d3ed85",
   "metadata": {},
   "outputs": [
    {
     "data": {
      "image/png": "[encoded data removed]",
      "text/plain": [
       "<Figure size 600x500 with 2 Axes>"
      ]
     },
     "metadata": {},
     "output_type": "display_data"
    }
   ],
   "source": [
    "plot_data(df,'newbalanceDest')"
   ]
  },
  {
   "cell_type": "markdown",
   "id": "ee28e6bd-ded8-47ea-afa2-2455f6a166e4",
   "metadata": {},
   "source": [
    "#### Most of the data is right skewed so some algorithms may not give good accuracy (ex: linear regression)"
   ]
  },
  {
   "cell_type": "code",
   "execution_count": 79,
   "id": "aa1c53b5-28ba-4ae9-aa50-197b42d5bc4a",
   "metadata": {},
   "outputs": [
    {
     "data": {
      "text/html": [
       "<div>\n",
       "<style scoped>\n",
       "    .dataframe tbody tr th:only-of-type {\n",
       "        vertical-align: middle;\n",
       "    }\n",
       "\n",
       "    .dataframe tbody tr th {\n",
       "        vertical-align: top;\n",
       "    }\n",
       "\n",
       "    .dataframe thead th {\n",
       "        text-align: right;\n",
       "    }\n",
       "</style>\n",
       "<table border=\"1\" class=\"dataframe\">\n",
       "  <thead>\n",
       "    <tr style=\"text-align: right;\">\n",
       "      <th></th>\n",
       "      <th>amount</th>\n",
       "      <th>oldbalanceOrg</th>\n",
       "      <th>newbalanceOrig</th>\n",
       "      <th>oldbalanceDest</th>\n",
       "      <th>newbalanceDest</th>\n",
       "      <th>isFraud</th>\n",
       "      <th>transaction_type</th>\n",
       "    </tr>\n",
       "  </thead>\n",
       "  <tbody>\n",
       "    <tr>\n",
       "      <th>5844077</th>\n",
       "      <td>3646.13</td>\n",
       "      <td>20532.0</td>\n",
       "      <td>16885.87</td>\n",
       "      <td>0.00</td>\n",
       "      <td>0.00</td>\n",
       "      <td>0</td>\n",
       "      <td>0</td>\n",
       "    </tr>\n",
       "    <tr>\n",
       "      <th>6359076</th>\n",
       "      <td>150708.06</td>\n",
       "      <td>2562.0</td>\n",
       "      <td>0.00</td>\n",
       "      <td>544897.92</td>\n",
       "      <td>695605.98</td>\n",
       "      <td>0</td>\n",
       "      <td>2</td>\n",
       "    </tr>\n",
       "    <tr>\n",
       "      <th>5554125</th>\n",
       "      <td>9738.36</td>\n",
       "      <td>0.0</td>\n",
       "      <td>0.00</td>\n",
       "      <td>0.00</td>\n",
       "      <td>0.00</td>\n",
       "      <td>0</td>\n",
       "      <td>0</td>\n",
       "    </tr>\n",
       "    <tr>\n",
       "      <th>6121974</th>\n",
       "      <td>1533.54</td>\n",
       "      <td>49852.0</td>\n",
       "      <td>48318.46</td>\n",
       "      <td>0.00</td>\n",
       "      <td>0.00</td>\n",
       "      <td>0</td>\n",
       "      <td>0</td>\n",
       "    </tr>\n",
       "    <tr>\n",
       "      <th>2434094</th>\n",
       "      <td>27865.80</td>\n",
       "      <td>0.0</td>\n",
       "      <td>0.00</td>\n",
       "      <td>0.00</td>\n",
       "      <td>0.00</td>\n",
       "      <td>0</td>\n",
       "      <td>0</td>\n",
       "    </tr>\n",
       "  </tbody>\n",
       "</table>\n",
       "</div>"
      ],
      "text/plain": [
       "            amount  oldbalanceOrg  newbalanceOrig  oldbalanceDest  \\\n",
       "5844077    3646.13        20532.0        16885.87            0.00   \n",
       "6359076  150708.06         2562.0            0.00       544897.92   \n",
       "5554125    9738.36            0.0            0.00            0.00   \n",
       "6121974    1533.54        49852.0        48318.46            0.00   \n",
       "2434094   27865.80            0.0            0.00            0.00   \n",
       "\n",
       "         newbalanceDest  isFraud  transaction_type  \n",
       "5844077            0.00        0                 0  \n",
       "6359076       695605.98        0                 2  \n",
       "5554125            0.00        0                 0  \n",
       "6121974            0.00        0                 0  \n",
       "2434094            0.00        0                 0  "
      ]
     },
     "execution_count": 79,
     "metadata": {},
     "output_type": "execute_result"
    }
   ],
   "source": [
    "df.head()"
   ]
  },
  {
   "cell_type": "code",
   "execution_count": 49,
   "id": "d2ed749d-b11b-4d17-83e0-3230a21b8890",
   "metadata": {},
   "outputs": [
    {
     "name": "stdout",
     "output_type": "stream",
     "text": [
      "             amount  oldbalanceOrg  newbalanceOrig  oldbalanceDest  \\\n",
      "5844077     3646.13       20532.00        16885.87            0.00   \n",
      "6359076   150708.06        2562.00            0.00       544897.92   \n",
      "5554125     9738.36           0.00            0.00            0.00   \n",
      "6121974     1533.54       49852.00        48318.46            0.00   \n",
      "2434094    27865.80           0.00            0.00            0.00   \n",
      "...             ...            ...             ...             ...   \n",
      "6362615   339682.13      339682.13            0.00            0.00   \n",
      "6362616  6311409.28     6311409.28            0.00            0.00   \n",
      "6362617  6311409.28     6311409.28            0.00        68488.84   \n",
      "6362618   850002.52      850002.52            0.00            0.00   \n",
      "6362619   850002.52      850002.52            0.00      6510099.11   \n",
      "\n",
      "         newbalanceDest  transaction_type  \n",
      "5844077            0.00                 0  \n",
      "6359076       695605.98                 2  \n",
      "5554125            0.00                 0  \n",
      "6121974            0.00                 0  \n",
      "2434094            0.00                 0  \n",
      "...                 ...               ...  \n",
      "6362615       339682.13                 2  \n",
      "6362616            0.00                 1  \n",
      "6362617      6379898.11                 2  \n",
      "6362618            0.00                 1  \n",
      "6362619      7360101.63                 2  \n",
      "\n",
      "[16426 rows x 6 columns]\n",
      "5844077    0\n",
      "6359076    0\n",
      "5554125    0\n",
      "6121974    0\n",
      "2434094    0\n",
      "          ..\n",
      "6362615    1\n",
      "6362616    1\n",
      "6362617    1\n",
      "6362618    1\n",
      "6362619    1\n",
      "Name: isFraud, Length: 16426, dtype: int64\n"
     ]
    }
   ],
   "source": [
    "# Independent features\n",
    "X = df.drop(columns=['isFraud'])\n",
    "\n",
    "# Dependent feature\n",
    "y = df['isFraud']\n",
    "\n",
    "print(X)\n",
    "print(y)"
   ]
  },
  {
   "cell_type": "code",
   "execution_count": 81,
   "id": "e3940148-ebb2-4a67-b554-f06b72ad4547",
   "metadata": {},
   "outputs": [
    {
     "name": "stdout",
     "output_type": "stream",
     "text": [
      "(16426, 6)\n",
      "(16426,)\n"
     ]
    }
   ],
   "source": [
    "print(X.shape)\n",
    "print(y.shape)"
   ]
  },
  {
   "cell_type": "code",
   "execution_count": 82,
   "id": "0e5acbbd-dd3b-4e2c-bb87-71272f74bacc",
   "metadata": {},
   "outputs": [],
   "source": [
    "# Train Test Split\n",
    "\n",
    "X_train,X_test,y_train,y_test = train_test_split(X,y,test_size=0.2,random_state=1)"
   ]
  },
  {
   "cell_type": "code",
   "execution_count": 83,
   "id": "772d58bc-2b7c-4ef4-8a25-656a769ca08e",
   "metadata": {},
   "outputs": [
    {
     "name": "stdout",
     "output_type": "stream",
     "text": [
      "(13140, 6)\n",
      "(3286, 6)\n",
      "(13140,)\n",
      "(3286,)\n"
     ]
    }
   ],
   "source": [
    "print(X_train.shape)\n",
    "print(X_test.shape)\n",
    "print(y_train.shape)\n",
    "print(y_test.shape)"
   ]
  },
  {
   "cell_type": "code",
   "execution_count": 84,
   "id": "2523299a-567f-4770-8672-cb97118a29b2",
   "metadata": {},
   "outputs": [],
   "source": [
    "# Importing RandomForest Classifer for model training and GridSearchCV for hyperparameter tuning\n",
    "\n",
    "from sklearn.ensemble import RandomForestClassifier\n",
    "# from sklearn.model_selection import GridSearchCV"
   ]
  },
  {
   "cell_type": "code",
   "execution_count": 85,
   "id": "8a9d6b1c-3ea7-45c1-8238-1fd87bc57a22",
   "metadata": {},
   "outputs": [],
   "source": [
    "# Initializing the RandomForestClassifier\n",
    "rf = RandomForestClassifier(random_state=42)"
   ]
  },
  {
   "cell_type": "code",
   "execution_count": 92,
   "id": "63c8630f-faba-4889-a8ea-1f76ad861b14",
   "metadata": {},
   "outputs": [
    {
     "data": {
      "text/html": [
       "<style>#sk-container-id-1 {color: black;background-color: white;}#sk-container-id-1 pre{padding: 0;}#sk-container-id-1 div.sk-toggleable {background-color: white;}#sk-container-id-1 label.sk-toggleable__label {cursor: pointer;display: block;width: 100%;margin-bottom: 0;padding: 0.3em;box-sizing: border-box;text-align: center;}#sk-container-id-1 label.sk-toggleable__label-arrow:before {content: \"▸\";float: left;margin-right: 0.25em;color: #696969;}#sk-container-id-1 label.sk-toggleable__label-arrow:hover:before {color: black;}#sk-container-id-1 div.sk-estimator:hover label.sk-toggleable__label-arrow:before {color: black;}#sk-container-id-1 div.sk-toggleable__content {max-height: 0;max-width: 0;overflow: hidden;text-align: left;background-color: #f0f8ff;}#sk-container-id-1 div.sk-toggleable__content pre {margin: 0.2em;color: black;border-radius: 0.25em;background-color: #f0f8ff;}#sk-container-id-1 input.sk-toggleable__control:checked~div.sk-toggleable__content {max-height: 200px;max-width: 100%;overflow: auto;}#sk-container-id-1 input.sk-toggleable__control:checked~label.sk-toggleable__label-arrow:before {content: \"▾\";}#sk-container-id-1 div.sk-estimator input.sk-toggleable__control:checked~label.sk-toggleable__label {background-color: #d4ebff;}#sk-container-id-1 div.sk-label input.sk-toggleable__control:checked~label.sk-toggleable__label {background-color: #d4ebff;}#sk-container-id-1 input.sk-hidden--visually {border: 0;clip: rect(1px 1px 1px 1px);clip: rect(1px, 1px, 1px, 1px);height: 1px;margin: -1px;overflow: hidden;padding: 0;position: absolute;width: 1px;}#sk-container-id-1 div.sk-estimator {font-family: monospace;background-color: #f0f8ff;border: 1px dotted black;border-radius: 0.25em;box-sizing: border-box;margin-bottom: 0.5em;}#sk-container-id-1 div.sk-estimator:hover {background-color: #d4ebff;}#sk-container-id-1 div.sk-parallel-item::after {content: \"\";width: 100%;border-bottom: 1px solid gray;flex-grow: 1;}#sk-container-id-1 div.sk-label:hover label.sk-toggleable__label {background-color: #d4ebff;}#sk-container-id-1 div.sk-serial::before {content: \"\";position: absolute;border-left: 1px solid gray;box-sizing: border-box;top: 0;bottom: 0;left: 50%;z-index: 0;}#sk-container-id-1 div.sk-serial {display: flex;flex-direction: column;align-items: center;background-color: white;padding-right: 0.2em;padding-left: 0.2em;position: relative;}#sk-container-id-1 div.sk-item {position: relative;z-index: 1;}#sk-container-id-1 div.sk-parallel {display: flex;align-items: stretch;justify-content: center;background-color: white;position: relative;}#sk-container-id-1 div.sk-item::before, #sk-container-id-1 div.sk-parallel-item::before {content: \"\";position: absolute;border-left: 1px solid gray;box-sizing: border-box;top: 0;bottom: 0;left: 50%;z-index: -1;}#sk-container-id-1 div.sk-parallel-item {display: flex;flex-direction: column;z-index: 1;position: relative;background-color: white;}#sk-container-id-1 div.sk-parallel-item:first-child::after {align-self: flex-end;width: 50%;}#sk-container-id-1 div.sk-parallel-item:last-child::after {align-self: flex-start;width: 50%;}#sk-container-id-1 div.sk-parallel-item:only-child::after {width: 0;}#sk-container-id-1 div.sk-dashed-wrapped {border: 1px dashed gray;margin: 0 0.4em 0.5em 0.4em;box-sizing: border-box;padding-bottom: 0.4em;background-color: white;}#sk-container-id-1 div.sk-label label {font-family: monospace;font-weight: bold;display: inline-block;line-height: 1.2em;}#sk-container-id-1 div.sk-label-container {text-align: center;}#sk-container-id-1 div.sk-container {/* jupyter's `normalize.less` sets `[hidden] { display: none; }` but bootstrap.min.css set `[hidden] { display: none !important; }` so we also need the `!important` here to be able to override the default hidden behavior on the sphinx rendered scikit-learn.org. See: https://github.com/scikit-learn/scikit-learn/issues/21755 */display: inline-block !important;position: relative;}#sk-container-id-1 div.sk-text-repr-fallback {display: none;}</style><div id=\"sk-container-id-1\" class=\"sk-top-container\"><div class=\"sk-text-repr-fallback\"><pre>RandomForestClassifier(random_state=42)</pre><b>In a Jupyter environment, please rerun this cell to show the HTML representation or trust the notebook. <br />On GitHub, the HTML representation is unable to render, please try loading this page with nbviewer.org.</b></div><div class=\"sk-container\" hidden><div class=\"sk-item\"><div class=\"sk-estimator sk-toggleable\"><input class=\"sk-toggleable__control sk-hidden--visually\" id=\"sk-estimator-id-1\" type=\"checkbox\" checked><label for=\"sk-estimator-id-1\" class=\"sk-toggleable__label sk-toggleable__label-arrow\">RandomForestClassifier</label><div class=\"sk-toggleable__content\"><pre>RandomForestClassifier(random_state=42)</pre></div></div></div></div></div>"
      ],
      "text/plain": [
       "RandomForestClassifier(random_state=42)"
      ]
     },
     "execution_count": 92,
     "metadata": {},
     "output_type": "execute_result"
    }
   ],
   "source": [
    "rf.fit(X_train,y_train)"
   ]
  },
  {
   "cell_type": "code",
   "execution_count": 94,
   "id": "b7caa2bd-f759-4778-84a3-d7212e185131",
   "metadata": {},
   "outputs": [],
   "source": [
    "y_pred = rf.predict(X_test)"
   ]
  },
  {
   "cell_type": "code",
   "execution_count": 95,
   "id": "3780bc90-021b-4d42-9e30-548a8327d988",
   "metadata": {},
   "outputs": [
    {
     "name": "stdout",
     "output_type": "stream",
     "text": [
      "Random Forest Classifier Accuracy: 0.9917833231892879\n",
      "              precision    recall  f1-score   support\n",
      "\n",
      "           0       1.00      0.98      0.99      1643\n",
      "           1       0.98      1.00      0.99      1643\n",
      "\n",
      "    accuracy                           0.99      3286\n",
      "   macro avg       0.99      0.99      0.99      3286\n",
      "weighted avg       0.99      0.99      0.99      3286\n",
      "\n"
     ]
    }
   ],
   "source": [
    "print(\"Random Forest Classifier Accuracy:\", accuracy_score(y_test, y_pred))\n",
    "print(classification_report(y_test, y_pred))"
   ]
  },
  {
   "cell_type": "markdown",
   "id": "0d03d9e3-71fb-48b8-b2d6-4b4d4d17efa0",
   "metadata": {},
   "source": [
    "### Questions and their answers from Task Details file\n",
    "\n",
    "1. Data cleaning including missing values, outliers and multi-collinearity.\n",
    "    * There were no missing values.\n",
    "    * Outliers could be prevalent in financial data. The most common transaction amount being 10,000,000 may suggest outliers or default values used for transactions.\n",
    "    * High correlation between oldbalanceOrg and newbalanceOrg, as well as oldbalanceDest and newbalanceDest, indicates potential multicollinearity. Though both features were kept for model training, removing one from each pair could simplify the model without significantly impacting performance.\n",
    "  \n",
    "2. Describe your fraud detection model in elaboration.\n",
    "   * A Random Forest Classifier was employed due to its ability to handle imbalanced data and capture complex interactions between features.\n",
    "   * Undersampling: Applied to address the class imbalance problem, reducing the majority class (isFraud=0) to a smaller, manageable size.\n",
    "   * Feature Selection: Dropped non-predictive features like step, nameOrig, and nameDest.\n",
    "   * Training and Evaluation: The model was trained on the undersampled data and evaluated using precision, recall, and F1-score.\n",
    "  \n",
    "3. How did you select variables to be included in the model?\n",
    "   * Variables were chosen based on their potential predictive value.\n",
    "   * The decision to keep correlated features (oldbalanceOrg, newbalanceOrig, etc.) was likely driven by their importance in capturing transaction patterns, even if they introduce multicollinearity.\n",
    "  \n",
    "4. Demonstrate the performance of the model by using best set of tools.\n",
    "   * Accuracy: 99.18%, indicating the model's strong overall performance.\n",
    "   * Precision and Recall: High precision (100% for isFraud=0, 98% for isFraud=1) and high recall (98% for isFraud=0, 100% for isFraud=1), demonstrating the model's ability to correctly identify both fraudulent and non-fraudulent transactions with minimal errors.\n",
    "   * F1-Score: A balance between precision and recall, achieving 99% for both classes, making the model reliable and robust.\n",
    "  \n",
    "5. What are the key factors that predict fraudulent customer?\n",
    "   * The amount of the transaction, especially when it’s significantly large (e.g., 10,000,000), seems to be a strong indicator of potential fraud.\n",
    "   * Fraudulent transactions are most common in TRANSFER and CASH_OUT types, highlighting their vulnerability.\n",
    "\n",
    "6. Do these factors make sense? If yes, How? If not, How not?\n",
    "   * YES\n",
    "   * Transaction Amount: Large or suspiciously consistent amounts are often flagged in fraud detection systems.\n",
    "   * Transaction Type: Transfers and cash-outs are inherently risky due to their potential for quickly moving funds out of accounts.\n",
    "   * Account Balances: The starting and ending balances give insight into whether a transaction is typical for a customer, aiding in fraud detection.\n",
    "  \n",
    "7. What kind of prevention should be adopted while company update its infrastructure?\n",
    "   * Implement real-time monitoring for high-risk transaction types (TRANSFER, CASH_OUT), especially involving large amounts.\n",
    "   * Introduce advanced anomaly detection techniques, possibly using machine learning models trained on normal transaction patterns.\n",
    "   * Conduct regular audits to ensure compliance with security protocols and update them as needed.\n",
    "  \n",
    "8. Assuming these actions have been implemented, how would you determine if they work?\n",
    "   * Compare pre- and post-implementation fraud rates. A significant reduction would indicate success.\n",
    "   * Gather feedback from customers, particularly those who have experienced flagged transactions\n",
    "   * Continuously reassess the model’s performance and adjust it based on evolving fraud patterns and transaction data."
   ]
  },
  {
   "cell_type": "markdown",
   "id": "3cbb157b-6d89-4792-94bb-a1ba3997d760",
   "metadata": {},
   "source": [
    "### \"My system is not very fast, so I was unable to perform hyperparameter tuning. Additionally, undersampling was necessary due to system limitations, but we still achieved good accuracy even with these constraints.\""
   ]
  },
  {
   "cell_type": "code",
   "execution_count": null,
   "id": "624d177c-512b-49e0-bd64-3e4cd8daf8c4",
   "metadata": {},
   "outputs": [],
   "source": []
  }
 ],
 "metadata": {
  "kernelspec": {
   "display_name": "Python 3 (ipykernel)",
   "language": "python",
   "name": "python3"
  },
  "language_info": {
   "codemirror_mode": {
    "name": "ipython",
    "version": 3
   },
   "file_extension": ".py",
   "mimetype": "text/x-python",
   "name": "python",
   "nbconvert_exporter": "python",
   "pygments_lexer": "ipython3",
   "version": "3.11.7"
  }
 },
 "nbformat": 4,
 "nbformat_minor": 5
}
